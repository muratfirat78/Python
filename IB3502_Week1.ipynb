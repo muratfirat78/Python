{
 "cells": [
  {
   "cell_type": "markdown",
   "id": "ac3b7332-c32a-4429-9b09-049bf82351be",
   "metadata": {},
   "source": [
    "<img align=\"right\" width=\"125\" src=\"https://www.ou.nl/documents/40554/3255217/Logo_OU.jpg\"/>\n",
    "\n",
    "<br>\n",
    "\n",
    "\n",
    "<center> <font size =\"6\" color='red'> IB3502 - Python Programming </font></center>\n",
    "<center> <font size =\"5\" color='red'> Week 1</font></center>\n",
    "<br> \n",
    "<font size =\"5\" color='red'> Variables and Simple Data Types</font></center> <br>\n",
    "\n",
    "\n",
    "<font size =\"2\" color='red'> dr. Murat Firat </font></center>"
   ]
  },
  {
   "cell_type": "markdown",
   "id": "27c46b25-b49c-4cd3-b5bb-888b98d4dc06",
   "metadata": {},
   "source": [
    "Notebook documents (or “notebooks”, all lower case) are documents produced by the Jupyter Notebook App, \n",
    "which contain both computer code (e.g. python)  and rich text elements <b>(paragraph, equations, figures, links, etc…)</b>. \n",
    "Notebook documents are both human-readable documents containing  the analysis description and the results (figures, tables, etc..)  as well as executable documents which can be run to perform data analysis. <br>\n",
    "\n",
    "For more information, navigate to:\n",
    "http://jupyter-notebook-beginner-guide.readthedocs.io/en/latest/what_is_jupyter.html\n",
    "\n",
    "**_Learninig Objective:_**\n",
    " This notebook will make you able to get familiar with the basic python syntax and Jupyter"
   ]
  },
  {
   "cell_type": "code",
   "execution_count": 57,
   "id": "aaee6214-dc20-4518-853c-fd60eb7f001f",
   "metadata": {},
   "outputs": [
    {
     "name": "stdin",
     "output_type": "stream",
     "text": [
      "Type your name and press enter:  john\n"
     ]
    },
    {
     "name": "stdout",
     "output_type": "stream",
     "text": [
      "Hello john! Let us start learning Python!\n"
     ]
    }
   ],
   "source": [
    "# This is a comment! This is not (Python) code!\n",
    "#Your first Python code\n",
    "\n",
    "username = input(\"Type your name and press enter: \") \n",
    "print('Hello '+str(username)+'! Let us start learning Python!')"
   ]
  },
  {
   "cell_type": "markdown",
   "id": "4fc47784-300a-4f17-992d-01060e763648",
   "metadata": {},
   "source": [
    "----------\n",
    "__Syntax Conventions in Python__\n",
    "\n",
    "Python requires indentation is the lines. The inner lines inside loops \"while\" and \"for\", \"if\" statements are required to have one tab extra. This is also valid for the lines in a fucntion. "
   ]
  },
  {
   "cell_type": "code",
   "execution_count": 27,
   "id": "8f20bcb9-0e82-4b5f-8e42-eae0e7721027",
   "metadata": {},
   "outputs": [
    {
     "name": "stdout",
     "output_type": "stream",
     "text": [
      "3\n"
     ]
    }
   ],
   "source": [
    "#This example shows how we can use Python as a purely procedural programming language.\n",
    "\n",
    "a=1\n",
    "b=2\n",
    "c= a + b\n",
    "#print(c)\n",
    "\n",
    "#Normal rule: one statement per line, but multiple\n",
    "# statements per line are possible\n",
    "# with a semicolon in between the statements:\n",
    "\n",
    "a=1; b=2; c=a+b; print(c)\n",
    "\n",
    "#single line comment, note that the last statement does not have a semicolon."
   ]
  },
  {
   "cell_type": "code",
   "execution_count": 63,
   "id": "5f6b41f8-e748-4bbf-8edd-8485017910b7",
   "metadata": {},
   "outputs": [
    {
     "name": "stdout",
     "output_type": "stream",
     "text": [
      "30\n"
     ]
    }
   ],
   "source": [
    "\"\"\"\n",
    "multiline comment:\n",
    "Assignment statement evaluate on the Right hand side and assign to the left hand side\n",
    "\"\"\"\n",
    "\n",
    "myvar = 10\n",
    "myvar = 3*myvar # = 30\n",
    "print(myvar)"
   ]
  },
  {
   "cell_type": "markdown",
   "id": "32ab6e7f-4129-42a9-8f05-f3a41d376e87",
   "metadata": {},
   "source": [
    "----------\n",
    "Blank matters in the syntax"
   ]
  },
  {
   "cell_type": "code",
   "execution_count": 46,
   "id": "00def219-2a7b-4c78-969e-99ed0804b139",
   "metadata": {},
   "outputs": [
    {
     "name": "stdout",
     "output_type": "stream",
     "text": [
      "final value of counter:  5\n",
      "final value of counter2:  4\n"
     ]
    }
   ],
   "source": [
    "#Blanks may or may not be important in Python programs.\n",
    "#These statements are equivalent (blanks do not matter):\n",
    "\n",
    "v0=3\n",
    "v0 = 3\n",
    "v0= 3\n",
    "v0 = 3\n",
    "\n",
    "#Tabs look like blanks and do matter:\n",
    "counter = 1 \n",
    "counter2 = 0\n",
    "while counter <= 4: \n",
    "    counter2 = counter2 + 1 # correct (4 leading blanks)\n",
    "    counter = counter + 1 # if you miss a tab here (try!), then you get infitnie loop ( then go Kernel->Interrupt Kernel)\n",
    "print('final value of counter: ',counter,)\n",
    "print('final value of counter2: ',counter2)"
   ]
  },
  {
   "cell_type": "markdown",
   "id": "5071bfd1-ea3a-4d5d-8a93-09551170623e",
   "metadata": {},
   "source": [
    "----------\n",
    "__Declarative and imperative statements__ <br>\n",
    "Examples of declarative and imperative statements"
   ]
  },
  {
   "cell_type": "code",
   "execution_count": 55,
   "id": "87ce733c-94a3-4cb2-82dc-2b0eafc11f9f",
   "metadata": {},
   "outputs": [
    {
     "name": "stdout",
     "output_type": "stream",
     "text": [
      "10\n",
      "5\n",
      "MyName\n",
      "50\n"
     ]
    }
   ],
   "source": [
    "# Declarative statements\n",
    "factorial = 10 \n",
    "argument = 5\n",
    "name = 'MyName'\n",
    "print(factorial)\n",
    "print(argument)   \n",
    "print(name)\n",
    "# Imperative statements\n",
    "factorial = factorial*argument \n",
    "print(factorial)"
   ]
  },
  {
   "cell_type": "markdown",
   "id": "6dc1baf5-6369-4af6-a7ee-05566867899d",
   "metadata": {},
   "source": [
    "----------\n",
    "__Variables and Data Types__\n",
    "\n",
    "\n",
    "_Static typing:_ Initialized with type declaration at compile time and its type cannot change during runtime.</br>\n",
    "_Dynamic typing:_ No explicit type declaration, variable type is determined based on its value</br>"
   ]
  },
  {
   "cell_type": "code",
   "execution_count": 69,
   "id": "4a5b6970-3640-488e-ba37-7d73fdcad968",
   "metadata": {},
   "outputs": [
    {
     "name": "stdout",
     "output_type": "stream",
     "text": [
      "<class 'int'>\n",
      "<class 'str'>\n"
     ]
    }
   ],
   "source": [
    "# Python code\n",
    "x = 0                     # type is integer\n",
    "print(type(x))\n",
    "x = \"Nick\"                # type is string\n",
    "print(type(x))"
   ]
  },
  {
   "cell_type": "markdown",
   "id": "59ecf403-63eb-4874-9221-7441ef9213d1",
   "metadata": {},
   "source": [
    "----------\n",
    "__If Statement__\n",
    "\n",
    "Interactive if statement"
   ]
  },
  {
   "cell_type": "code",
   "execution_count": 73,
   "id": "275b472a-4372-44b5-9dcd-8793a32275af",
   "metadata": {},
   "outputs": [
    {
     "name": "stdin",
     "output_type": "stream",
     "text": [
      "What is your mark?  5\n"
     ]
    },
    {
     "name": "stdout",
     "output_type": "stream",
     "text": [
      "Fail!\n"
     ]
    }
   ],
   "source": [
    "mark = int(input(\"What is your mark? \")) \n",
    "if mark > 50: \n",
    "    print(\"Pass!\")\n",
    "else: \n",
    "    print(\"Fail!\")"
   ]
  },
  {
   "cell_type": "markdown",
   "id": "f8237c31-e815-43bf-9651-5dab45cad429",
   "metadata": {},
   "source": [
    "----------\n",
    "\n",
    "Interactive if-elif-else statement"
   ]
  },
  {
   "cell_type": "code",
   "execution_count": 76,
   "id": "12e563e4-9b52-49e2-a595-588d425d5800",
   "metadata": {},
   "outputs": [
    {
     "name": "stdin",
     "output_type": "stream",
     "text": [
      "What is the weather like? sunny\n"
     ]
    },
    {
     "name": "stdout",
     "output_type": "stream",
     "text": [
      "Wear sunglasses!\n"
     ]
    }
   ],
   "source": [
    "weather = input(\"What is the weather like?\") \n",
    "if weather == \"raining\": \n",
    "    print(\"Take an umbrella!\")\n",
    "elif weather == \"cold\": \n",
    "    print(\"Take a coat!\")\n",
    "elif weather == \"sunny\": \n",
    "    print(\"Wear sunglasses!\")\n",
    "else: \n",
    "    print(\"Have a good day whatever the weather!\")\n"
   ]
  },
  {
   "cell_type": "markdown",
   "id": "daffad80-4a22-4c37-96e9-fc818116a1a0",
   "metadata": {},
   "source": [
    "----------\n",
    "__For and While loops__\n",
    "\n",
    "_For loops:_<br>  Structures that repeat some process, i.e., blocks of instructions, several times, also known as iterations. There are two types of loop in Python: for and while."
   ]
  },
  {
   "cell_type": "code",
   "execution_count": 79,
   "id": "6132e88c-2267-49e4-ac0f-a661d7aa1204",
   "metadata": {},
   "outputs": [
    {
     "name": "stdout",
     "output_type": "stream",
     "text": [
      "0 Hello world!\n",
      "1 Hello world!\n",
      "2 Hello world!\n",
      "3 Hello world!\n",
      "4 Hello world!\n"
     ]
    }
   ],
   "source": [
    "mylist = [0,1,2,3,4]\n",
    "\n",
    "for number in mylist: \n",
    "    print(number,\"Hello world!\")\n",
    "   "
   ]
  },
  {
   "cell_type": "markdown",
   "id": "8b4b9c25-9118-4a0f-8614-38e3f66ce394",
   "metadata": {},
   "source": [
    "----------\n",
    "For loop with range function"
   ]
  },
  {
   "cell_type": "code",
   "execution_count": 82,
   "id": "5934e919-7aec-4fc3-89e7-20a07d0a24ca",
   "metadata": {
    "scrolled": true
   },
   "outputs": [
    {
     "name": "stdout",
     "output_type": "stream",
     "text": [
      "1 Hello world!\n",
      "3 Hello world!\n",
      "5 Hello world!\n",
      "7 Hello world!\n",
      "9 Hello world!\n"
     ]
    }
   ],
   "source": [
    "for counter in range(1,10,2): \n",
    "    print(counter,\"Hello world!\")"
   ]
  },
  {
   "cell_type": "markdown",
   "id": "5dfe6cc9-ac6f-4eb4-8c16-9db5bbbd8d20",
   "metadata": {},
   "source": [
    "----------\n",
    "__Range function__\n",
    "\n",
    "The range() function is one of Python's built in functions. It is used to indicate how many times the loop will be repeated. The structure of the range function is range(start, up to, step)* in which the arguments of range are used as follows:\n",
    "<ul>\n",
    "  <li>start and step are both optional, as all loops below are the same.</li>\n",
    "  <li>up to must be specified, meaning up to excluding  </li>\n",
    "\n",
    "</ul>"
   ]
  },
  {
   "cell_type": "code",
   "execution_count": 85,
   "id": "b4f4e467-8dfb-40e6-9332-66460af92e2e",
   "metadata": {},
   "outputs": [
    {
     "name": "stdout",
     "output_type": "stream",
     "text": [
      "0 Hello world!\n",
      "1 Hello world!\n",
      "2 Hello world!\n",
      "3 Hello world!\n",
      "4 Hello world!\n",
      "___________\n",
      "1 Hello world!\n",
      "2 Hello world!\n",
      "3 Hello world!\n",
      "4 Hello world!\n",
      "___________\n",
      "Hello world!\n",
      "Hello world!\n",
      "Hello world!\n",
      "Hello world!\n",
      "Hello world!\n"
     ]
    }
   ],
   "source": [
    "# counter takes values 0,1,2,3,and 4 in all below for loops.\n",
    "\n",
    "\n",
    "for counter in range(5):     # range with only up to\n",
    "    print(counter,\"Hello world!\")\n",
    "\n",
    "print('___________')\n",
    "\n",
    "for counter2 in range(1,5):   # range with start and up to\n",
    "    print(counter2,\"Hello world!\")\n",
    "\n",
    "print('___________')\n",
    "\n",
    "for counter3 in range(0,5,1): # range with start, up to, and step\n",
    "    print(\"Hello world!\")\n"
   ]
  },
  {
   "cell_type": "markdown",
   "id": "fc8a39cf-9ae5-434c-b771-13275f152c50",
   "metadata": {},
   "source": [
    "----------\n",
    "_While loops:_ <br> Indefinite or conditional loops, includes a Boolean expression that evaluates to True or False. The code inside the loop will be repeatedly executed until the Boolean expression is no longer True.  \n",
    "\n",
    "Example: Confirming a password selection."
   ]
  },
  {
   "cell_type": "code",
   "execution_count": 91,
   "id": "e1f330e7-4837-4b31-b764-83f4f422f3f9",
   "metadata": {},
   "outputs": [
    {
     "name": "stdin",
     "output_type": "stream",
     "text": [
      "Please enter the password  secrt\n"
     ]
    },
    {
     "name": "stdout",
     "output_type": "stream",
     "text": [
      "Sorry you entered an incorrect value, please try again\n"
     ]
    },
    {
     "name": "stdin",
     "output_type": "stream",
     "text": [
      "Please enter the password  secret\n"
     ]
    },
    {
     "name": "stdout",
     "output_type": "stream",
     "text": [
      "Thank you. You have entered a correct password\n"
     ]
    }
   ],
   "source": [
    "password = \"\" \n",
    "while password != \"secret\": \n",
    "    password = input(\"Please enter the password \") \n",
    "    if password == \"secret\": \n",
    "        print(\"Thank you. You have entered a correct password\")\n",
    "    else:\n",
    "        print(\"Sorry you entered an incorrect value, please try again\")"
   ]
  },
  {
   "cell_type": "markdown",
   "id": "44f8a58a-fc5c-4665-8195-81297bccb305",
   "metadata": {},
   "source": [
    "----------\n",
    "Cheking entered number"
   ]
  },
  {
   "cell_type": "code",
   "execution_count": 94,
   "id": "4e98bae6-a827-43c1-8966-09f037914cc3",
   "metadata": {},
   "outputs": [
    {
     "name": "stdin",
     "output_type": "stream",
     "text": [
      "Please enter a number in the range 10 to 20 12\n"
     ]
    },
    {
     "name": "stdout",
     "output_type": "stream",
     "text": [
      "You entered 12\n",
      "This is a valid number\n"
     ]
    }
   ],
   "source": [
    "invalid = True \n",
    "\n",
    "while invalid:\n",
    "    number = int(input(\"Please enter a number in the range 10 to 20\"))\n",
    "    if (number >= 10) and (number <= 20): \n",
    "        invalid = False \n",
    "    else:\n",
    "        print(\"Sorry number must be between 10 and 20\")\n",
    "        print(\"Please try again\")\n",
    "print(\"You entered {0}\".format(number))\n",
    "print(\"This is a valid number\")\n"
   ]
  },
  {
   "cell_type": "markdown",
   "id": "188dc2b2-8429-48a3-a110-17aaad01d6aa",
   "metadata": {},
   "source": [
    "----------\n",
    "Linear search"
   ]
  },
  {
   "cell_type": "code",
   "execution_count": 103,
   "id": "de7f50b4-3202-4031-9c04-9ef020dc4cb6",
   "metadata": {},
   "outputs": [
    {
     "name": "stdout",
     "output_type": "stream",
     "text": [
      "Element found!\n"
     ]
    }
   ],
   "source": [
    "listOfItems = [2,5,7,9,12,24,25,35,39,45,56,78]\n",
    "searchItem = 35 # also try 34..\n",
    "element = 0\n",
    "found = False \n",
    "LengthOfList = len(listOfItems)\n",
    "while (found == False) and (element < len(listOfItems)): \n",
    "    if searchItem == listOfItems[element]:\n",
    "        found = True\n",
    "        print('Element found!')\n",
    "         # other statements… \n",
    "    else: \n",
    "        element = element + 1 "
   ]
  },
  {
   "cell_type": "markdown",
   "id": "a9fa98ae-ef2e-49f3-b3ad-9aea4b904600",
   "metadata": {},
   "source": [
    "----------\n",
    "__Exceptions__ <br>\n",
    "Exceptions occur when exceptional situations occur in your program, if a file is to be read, and it does not exist, or the file is accidentally deleted it when the program was running, or your program had some invalid statements. These cases are handled by Python which raises its hands and tells you there is an error.\n",
    "\n"
   ]
  },
  {
   "cell_type": "code",
   "execution_count": 106,
   "id": "f18e9c68-69c4-4bde-9098-77978c26fafc",
   "metadata": {},
   "outputs": [
    {
     "ename": "NameError",
     "evalue": "name 'Print' is not defined",
     "output_type": "error",
     "traceback": [
      "\u001b[1;31m---------------------------------------------------------------------------\u001b[0m",
      "\u001b[1;31mNameError\u001b[0m                                 Traceback (most recent call last)",
      "Cell \u001b[1;32mIn[106], line 1\u001b[0m\n\u001b[1;32m----> 1\u001b[0m Print(\u001b[38;5;124m\"\u001b[39m\u001b[38;5;124mHello world\u001b[39m\u001b[38;5;124m\"\u001b[39m)\n",
      "\u001b[1;31mNameError\u001b[0m: name 'Print' is not defined"
     ]
    }
   ],
   "source": [
    "Print(\"Hello world\")"
   ]
  },
  {
   "cell_type": "markdown",
   "id": "15559d17-ee1b-45d1-97fe-0a92fb8399a5",
   "metadata": {},
   "source": [
    "----------\n",
    "Exception handling with try/except"
   ]
  },
  {
   "cell_type": "code",
   "execution_count": 111,
   "id": "b3557654-917b-43fe-aa5e-d0069db2ade1",
   "metadata": {},
   "outputs": [
    {
     "name": "stdout",
     "output_type": "stream",
     "text": [
      "You cancelled the operation.\n"
     ]
    },
    {
     "name": "stdin",
     "output_type": "stream",
     "text": [
      "Enter something -->  ok\n"
     ]
    }
   ],
   "source": [
    "# To simulate the keyboard interrupt in Jupyter\n",
    "# press the stop button and then enter \"\"\n",
    "\n",
    "try:\n",
    "    text = input('Enter something --> ')\n",
    "except EOFError:\n",
    "    print('Why did you do an EOF on me?')\n",
    "except KeyboardInterrupt:\n",
    "    print('You cancelled the operation.')\n",
    "else:\n",
    "    print('You entered {}'.format(text))\n",
    "    "
   ]
  },
  {
   "cell_type": "markdown",
   "id": "86324265-e499-4ab6-a315-ad2b53e67cce",
   "metadata": {},
   "source": [
    "----------\n",
    "Exception handling with try/except"
   ]
  },
  {
   "cell_type": "code",
   "execution_count": 114,
   "id": "7edf0245-5793-4af4-afcf-936a702ce3fd",
   "metadata": {},
   "outputs": [
    {
     "name": "stdin",
     "output_type": "stream",
     "text": [
      "Please enter numerator  45\n",
      "Please enter denominator  0\n"
     ]
    },
    {
     "name": "stdout",
     "output_type": "stream",
     "text": [
      "You can't divide by zero!\n",
      "End of the code..\n"
     ]
    }
   ],
   "source": [
    "try: \n",
    "    numerator = int(input(\"Please enter numerator \"))\n",
    "    denominator  = int(input(\"Please enter denominator \"))\n",
    "    result = numerator/denominator \n",
    "except ZeroDivisionError: \n",
    "     print(\"You can't divide by zero!\")\n",
    "else:\n",
    "     print(\"You division result is: \",result)\n",
    "        \n",
    "print('End of the code..')"
   ]
  },
  {
   "cell_type": "code",
   "execution_count": 48,
   "id": "926ffbf2",
   "metadata": {
    "tags": []
   },
   "outputs": [
    {
     "name": "stdout",
     "output_type": "stream",
     "text": [
      "Hello World!\n"
     ]
    }
   ],
   "source": [
    "# In a Jupyter Notebook one can import the content of a py file with command \"import\". \n",
    "from Week1 import *\n",
    "print(\"Hello World!\")"
   ]
  },
  {
   "cell_type": "code",
   "execution_count": 6,
   "id": "93f47c9f-6872-4933-8d27-58d3c55dc39e",
   "metadata": {
    "tags": []
   },
   "outputs": [
    {
     "name": "stdout",
     "output_type": "stream",
     "text": [
      "Hello Python World!\n",
      "Hello World (from a variable in py file)!\n",
      "Hello World (from a function in py file)!\n"
     ]
    }
   ],
   "source": [
    "message = \"Hello Python World!\"\n",
    "print(message)\n",
    "\n",
    "# Now print from variable in import\n",
    "print(print_msg)\n",
    "# Now print by calling a function in imported file\n",
    "HelloPrint()"
   ]
  },
  {
   "cell_type": "markdown",
   "id": "0fe4c7f3",
   "metadata": {},
   "source": [
    "__Basic syntax__\n",
    "\n",
    "Python requires indentation is the lines. The inner lines inside loops \"while\" and \"for\", \"if\" statements are required to have one tab extra. This is also valid for the lines in a fucntion. "
   ]
  },
  {
   "cell_type": "code",
   "execution_count": 12,
   "id": "c67f5c49",
   "metadata": {},
   "outputs": [
    {
     "ename": "IndentationError",
     "evalue": "expected an indented block after 'for' statement on line 3 (3991857758.py, line 4)",
     "output_type": "error",
     "traceback": [
      "\u001b[1;36m  Cell \u001b[1;32mIn[12], line 4\u001b[1;36m\u001b[0m\n\u001b[1;33m    print(\"i is now: \",i)\u001b[0m\n\u001b[1;37m    ^\u001b[0m\n\u001b[1;31mIndentationError\u001b[0m\u001b[1;31m:\u001b[0m expected an indented block after 'for' statement on line 3\n"
     ]
    }
   ],
   "source": [
    "# Check if you get an error. If so, fix the issue ith identation.\n",
    "for i in range(5):\n",
    "print(\"i is now: \",i)"
   ]
  },
  {
   "cell_type": "markdown",
   "id": "b08b9463-ba27-47ae-a4b0-cad722c7a391",
   "metadata": {},
   "source": [
    "__Call function with argument__\n"
   ]
  },
  {
   "cell_type": "code",
   "execution_count": 7,
   "id": "412b63e4-a639-4283-b1e8-1f9997bf4568",
   "metadata": {},
   "outputs": [
    {
     "name": "stdout",
     "output_type": "stream",
     "text": [
      "Power 5 of 2 : 32\n"
     ]
    }
   ],
   "source": [
    "number = 2\n",
    "power = 5\n",
    "print(\"Power\", power, \"of\",number ,\":\",TakePower(number,power))"
   ]
  },
  {
   "cell_type": "markdown",
   "id": "0fccc06f-f61e-4edb-818b-51c182e3f90b",
   "metadata": {},
   "source": [
    "__________________\n",
    "<center> <font size = '6' color='red'>Exercises </font> </center>\n",
    "\n",
    "__If-else__\n",
    "\n",
    "*<font color='red'>Exercise 1</font>* <br>\n",
    "Write a script that asks the users how old they are. Tell the users if they are old enough to vote. Then extend the program tell them how many years it is until they can retire (assume at age 65). "
   ]
  },
  {
   "cell_type": "code",
   "execution_count": null,
   "id": "00949c5a-0c9e-49bd-b62e-2391773c4728",
   "metadata": {},
   "outputs": [],
   "source": []
  },
  {
   "cell_type": "markdown",
   "id": "ccdec430-6eb5-4664-a826-dd846d9c81d2",
   "metadata": {},
   "source": [
    "*<font color='red'>Exercise 2</font>* <br>\n",
    "Write a script that asks the user to input a number between 1 and 20. Give a response which indicates if the number is either within the range, too high or too low."
   ]
  },
  {
   "cell_type": "code",
   "execution_count": null,
   "id": "dd954ddd-03d7-4eb8-9f96-4e5226892c68",
   "metadata": {
    "scrolled": true
   },
   "outputs": [],
   "source": []
  },
  {
   "cell_type": "markdown",
   "id": "c1e6d4da-5241-45e3-b2f1-b48b5034c2cf",
   "metadata": {},
   "source": [
    "*<font color='red'>Exercise 3</font>* <br>\n",
    "Write a script which inputs the names of two football teams, and the score of one team followed by the score of the other team. Your function should calculate how many points each team gets (3 for a win,1 for a draw, 0 if they lose)."
   ]
  },
  {
   "cell_type": "code",
   "execution_count": null,
   "id": "00903dd0-557b-4ae7-b636-d4344c987624",
   "metadata": {},
   "outputs": [],
   "source": []
  },
  {
   "cell_type": "markdown",
   "id": "c7249d4a-1911-486b-9686-b7ebc89c2075",
   "metadata": {},
   "source": [
    "__For and while loops__\n",
    "\n",
    "*<font color='red'>Exercise 4</font>* <br>\n",
    "Write a program that will ask the user for a message and the number of times they want that message displayed. Then output the message that number of times."
   ]
  },
  {
   "cell_type": "code",
   "execution_count": null,
   "id": "346335fe-2426-43e9-a66e-84f9fc9a79d5",
   "metadata": {},
   "outputs": [],
   "source": []
  },
  {
   "cell_type": "markdown",
   "id": "1e011b52-4898-4de9-9564-c9747322dd8a",
   "metadata": {},
   "source": [
    "*<font color='red'>Exercise 5</font>* <br>\n",
    " Write a program that will calculate the average (mean) of a set of numbers. This time, the user is to be asked how many numbers are to be averaged, they must then enter this number of numbers. Your program will calculate and display the average of those numbers."
   ]
  },
  {
   "cell_type": "code",
   "execution_count": null,
   "id": "018b603b-6133-4c2b-8816-552943435c09",
   "metadata": {},
   "outputs": [],
   "source": []
  },
  {
   "cell_type": "markdown",
   "id": "c669c75e-c604-41c7-b988-f0050d07e4d7",
   "metadata": {},
   "source": [
    "*<font color='red'>Exercise 6</font>* <br>\n",
    "Create a program that uses linear search to check that a given character is in a given string.\n",
    "More specifically, count the number of \"l\" in the phrase \"Hello, world!\""
   ]
  },
  {
   "cell_type": "code",
   "execution_count": null,
   "id": "a7292522-3009-4809-b7b1-556375ecfa7f",
   "metadata": {},
   "outputs": [],
   "source": []
  },
  {
   "cell_type": "markdown",
   "id": "14dfaa76-cc94-4c50-a8a7-be41545db2ac",
   "metadata": {},
   "source": [
    "*<font color='red'>Exercise 7</font>* <br>\n",
    " Write a program which will find all such numbers which are divisible by 7 but are not a multiple of 5,\n",
    "between 2000 and 3200 (both included)."
   ]
  },
  {
   "cell_type": "code",
   "execution_count": null,
   "id": "7d6f8137-2a88-4efb-8ee6-a27f82467b9b",
   "metadata": {},
   "outputs": [],
   "source": []
  },
  {
   "cell_type": "markdown",
   "id": "ef6dd791-92d6-4d7d-890f-84cbf8eb4697",
   "metadata": {},
   "source": [
    "__________________\n",
    "<font size = '5' color='red'>Solutions </font> \n",
    "\n",
    "*<font color='red'>Exercise 1</font>* <br>\n"
   ]
  },
  {
   "cell_type": "code",
   "execution_count": 142,
   "id": "4e91ac72-733e-437a-8dd2-ad2ad9444bff",
   "metadata": {},
   "outputs": [
    {
     "name": "stdin",
     "output_type": "stream",
     "text": [
      "What is your age:  34\n"
     ]
    },
    {
     "name": "stdout",
     "output_type": "stream",
     "text": [
      "you can vote\n",
      "you can retire in 31 years\n"
     ]
    }
   ],
   "source": [
    "age = int(input(\"What is your age: \"))\n",
    "if age >= 18:\n",
    "    print(\"you can vote\")\n",
    "\n",
    "if age >65:\n",
    "    print(\"you can retire\")\n",
    "else:\n",
    "    timetoretirement = 65-age\n",
    "    print(\"you can retire in \" + str(timetoretirement)+ \" years\")"
   ]
  },
  {
   "cell_type": "markdown",
   "id": "3cb063ee-58e2-46ef-be47-62f5261b01d3",
   "metadata": {},
   "source": [
    "__________________\n",
    "\n",
    "*<font color='red'>Exercise 2</font>* <br>\n"
   ]
  },
  {
   "cell_type": "code",
   "execution_count": 145,
   "id": "61781e31-1995-44a4-bbcd-908ac8e93df4",
   "metadata": {},
   "outputs": [
    {
     "name": "stdin",
     "output_type": "stream",
     "text": [
      "Input a number between 1 and 20:  23\n"
     ]
    },
    {
     "name": "stdout",
     "output_type": "stream",
     "text": [
      "too high\n"
     ]
    }
   ],
   "source": [
    "val = int(input(\"Input a number between 1 and 20: \"))\n",
    "if val >= 1 and val <=20:\n",
    "    print(\"OK\")\n",
    "elif val > 20:\n",
    "    print(\"too high\")\n",
    "else:\n",
    "    print(\"too low\")"
   ]
  },
  {
   "cell_type": "markdown",
   "id": "f445b8bd-567b-4c36-93c1-c26579857423",
   "metadata": {},
   "source": [
    "__________________"
   ]
  },
  {
   "cell_type": "markdown",
   "id": "7aeefaf3",
   "metadata": {},
   "source": [
    "<a href=\"https://ehmatthes.github.io/pcc/solutions/chapter_2.html\"> Solutions to Section 2.2</a>\n"
   ]
  }
 ],
 "metadata": {
  "kernelspec": {
   "display_name": "Python 3 (ipykernel)",
   "language": "python",
   "name": "python3"
  },
  "language_info": {
   "codemirror_mode": {
    "name": "ipython",
    "version": 3
   },
   "file_extension": ".py",
   "mimetype": "text/x-python",
   "name": "python",
   "nbconvert_exporter": "python",
   "pygments_lexer": "ipython3",
   "version": "3.11.5"
  }
 },
 "nbformat": 4,
 "nbformat_minor": 5
}
