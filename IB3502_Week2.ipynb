{
 "cells": [
  {
   "cell_type": "markdown",
   "id": "ac3b7332-c32a-4429-9b09-049bf82351be",
   "metadata": {},
   "source": [
    "<img align=\"right\" width=\"125\" src=\"https://www.ou.nl/documents/40554/3255217/Logo_OU.jpg\"/>\n",
    "\n",
    "<br>\n",
    "\n",
    "\n",
    "<center> <font size =\"6\" color='red'> IB3502 - Python Programming </font></center>\n",
    "<center> <font size =\"5\" color='red'> Week 2</font></center>\n",
    "<br> \n",
    "<font size =\"5\" color='red'> Python Data Types</font></center> <br>\n",
    "\n",
    "\n",
    "<font size =\"2\" color='red'> dr. Murat Firat </font></center>"
   ]
  },
  {
   "cell_type": "markdown",
   "id": "27c46b25-b49c-4cd3-b5bb-888b98d4dc06",
   "metadata": {},
   "source": [
    "\n",
    "**_Learning Objective:_** <br>\n",
    " Understanding the properties of Python data types and their functions. \n",
    "\n",
    "For basic information, you can read the following <a href=\"https://www.geeksforgeeks.org/python-data-types/\"> tutorial</a>\n",
    "\n"
   ]
  },
  {
   "cell_type": "markdown",
   "id": "4fc47784-300a-4f17-992d-01060e763648",
   "metadata": {},
   "source": [
    "----------\n",
    "__Variable Type__\n",
    "\n",
    "Check if a variable is an instance"
   ]
  },
  {
   "cell_type": "code",
   "execution_count": 5,
   "id": "8f20bcb9-0e82-4b5f-8e42-eae0e7721027",
   "metadata": {},
   "outputs": [
    {
     "name": "stdout",
     "output_type": "stream",
     "text": [
      "Variable is an integer!\n"
     ]
    }
   ],
   "source": [
    "var_int = isinstance(42,int)    # also float, string, list..\n",
    "\n",
    "if var_int: \n",
    "    print(\"Variable is an integer!\")\n",
    "else: \n",
    "    print(\" Variable is not an integer!\")"
   ]
  },
  {
   "cell_type": "markdown",
   "id": "499bb2b8-7488-4c87-8ecb-77f086331aa7",
   "metadata": {},
   "source": [
    "----------\n",
    "Check the identity of a variable"
   ]
  },
  {
   "cell_type": "code",
   "execution_count": 8,
   "id": "5f6b41f8-e748-4bbf-8edd-8485017910b7",
   "metadata": {},
   "outputs": [
    {
     "name": "stdout",
     "output_type": "stream",
     "text": [
      "140732249708616\n",
      "140732249708648\n"
     ]
    }
   ],
   "source": [
    "number = 42\n",
    "num_id = id(number)\n",
    "\n",
    "print(num_id)\n",
    "\n",
    "number = 43\n",
    "num_id = id(number)\n",
    "print(num_id)\n",
    "\n",
    "\n",
    "mylist = [1,2,3]\n",
    "list_id = id(mylist)\n"
   ]
  },
  {
   "cell_type": "markdown",
   "id": "32ab6e7f-4129-42a9-8f05-f3a41d376e87",
   "metadata": {},
   "source": [
    "----------\n",
    "Check type of a variable"
   ]
  },
  {
   "cell_type": "code",
   "execution_count": 13,
   "id": "00def219-2a7b-4c78-969e-99ed0804b139",
   "metadata": {},
   "outputs": [
    {
     "name": "stdout",
     "output_type": "stream",
     "text": [
      "<class 'int'>\n",
      "<class 'str'>\n",
      "<class 'list'>\n"
     ]
    }
   ],
   "source": [
    "num_type = type(number)\n",
    "\n",
    "print(num_type)\n",
    "print(type(\"Hello, World!\"))\n",
    "print(type([1, 2, 3]))"
   ]
  },
  {
   "cell_type": "markdown",
   "id": "7ed4d630-08ed-42b1-b003-9c07e4da6a04",
   "metadata": {},
   "source": [
    "----------\n",
    "In a collection type, you have the collection’s identity and probably several item identities. You can modify the value—and, therefore, the identity—of some of these items while leaving the collection’s identity unchanged. In that case, you have a mutable collection."
   ]
  },
  {
   "cell_type": "code",
   "execution_count": 20,
   "id": "6a876d05-5ddf-474b-9136-bd5f5ef8f57a",
   "metadata": {},
   "outputs": [
    {
     "name": "stdout",
     "output_type": "stream",
     "text": [
      "140732249708616\n",
      "140732249708648\n",
      "[1, 2, 3] 2095331694528\n",
      "[1, 5, 3] 2095331694528\n"
     ]
    }
   ],
   "source": [
    "number = 42 \n",
    "print(id(number))\n",
    "\n",
    "number = 43 \n",
    "print(id(number))\n",
    "\n",
    "mylist = [1,2,3]\n",
    "print(mylist,id(mylist))\n",
    "\n",
    "mylist[1] = 5\n",
    "print(mylist,id(mylist))"
   ]
  },
  {
   "cell_type": "markdown",
   "id": "3125b201-cf3b-4ee9-b24d-6053f898f278",
   "metadata": {},
   "source": [
    "----------\n",
    "<font  color='red'>  __Strings__ </font>\n",
    "\n",
    "Equality and identity: Strings"
   ]
  },
  {
   "cell_type": "code",
   "execution_count": 23,
   "id": "1bfe6b50-0384-4edb-8ddc-4afa1b4a7397",
   "metadata": {},
   "outputs": [
    {
     "name": "stdout",
     "output_type": "stream",
     "text": [
      "True\n",
      "True\n",
      "True\n",
      "True\n"
     ]
    }
   ],
   "source": [
    "fruit1 = \"banana\"\n",
    "fruit2 = \"banana\"\n",
    "\n",
    "print(fruit1 == fruit2 )\n",
    "print(fruit1 is fruit2 )\n",
    "\n",
    "print(id(fruit1) == id(fruit2) )\n",
    "\n",
    "number = 13\n",
    "number2 = 13\n",
    "\n",
    "print(number is number2)"
   ]
  },
  {
   "cell_type": "markdown",
   "id": "b8ee14e4-b430-4bae-b609-96406a92fb98",
   "metadata": {},
   "source": [
    "----------\n",
    "Any memory saving for lists as for strings?"
   ]
  },
  {
   "cell_type": "code",
   "execution_count": 26,
   "id": "8e38d09f-4660-41a6-bc58-963b22bd2d60",
   "metadata": {},
   "outputs": [
    {
     "name": "stdout",
     "output_type": "stream",
     "text": [
      "True\n",
      "False\n"
     ]
    }
   ],
   "source": [
    "List1 = [1,2,3]\n",
    "List2 = [1,2,3]\n",
    "\n",
    "\n",
    "print(List1 == List2 )\n",
    "print(List1 is List2 )"
   ]
  },
  {
   "cell_type": "markdown",
   "id": "0330a06e-89c8-4e5d-95fc-7af007677765",
   "metadata": {},
   "source": [
    "----------\n",
    "Index function for strings"
   ]
  },
  {
   "cell_type": "code",
   "execution_count": 82,
   "id": "7f96ce3b-57a7-4f3f-b354-edf50db3919e",
   "metadata": {},
   "outputs": [
    {
     "name": "stdout",
     "output_type": "stream",
     "text": [
      "0\n"
     ]
    },
    {
     "ename": "ValueError",
     "evalue": "substring not found",
     "output_type": "error",
     "traceback": [
      "\u001b[1;31m---------------------------------------------------------------------------\u001b[0m",
      "\u001b[1;31mValueError\u001b[0m                                Traceback (most recent call last)",
      "Cell \u001b[1;32mIn[82], line 3\u001b[0m\n\u001b[0;32m      1\u001b[0m mystring \u001b[38;5;241m=\u001b[39m \u001b[38;5;124m\"\u001b[39m\u001b[38;5;124mI am a string\u001b[39m\u001b[38;5;124m\"\u001b[39m\n\u001b[0;32m      2\u001b[0m \u001b[38;5;28mprint\u001b[39m(mystring\u001b[38;5;241m.\u001b[39mindex(\u001b[38;5;124m\"\u001b[39m\u001b[38;5;124mI\u001b[39m\u001b[38;5;124m\"\u001b[39m))\n\u001b[1;32m----> 3\u001b[0m \u001b[38;5;28mprint\u001b[39m(mystring\u001b[38;5;241m.\u001b[39mindex(\u001b[38;5;124m\"\u001b[39m\u001b[38;5;124mme\u001b[39m\u001b[38;5;124m\"\u001b[39m))\n",
      "\u001b[1;31mValueError\u001b[0m: substring not found"
     ]
    }
   ],
   "source": [
    "mystring = \"I am a string\"\n",
    "print(mystring.index(\"I\"))\n",
    "print(mystring.index(\"me\"))"
   ]
  },
  {
   "cell_type": "markdown",
   "id": "fc64da25-a719-4adf-8054-de2befb30205",
   "metadata": {},
   "source": [
    "----------\n",
    "Reversing string via slicing"
   ]
  },
  {
   "cell_type": "code",
   "execution_count": 85,
   "id": "eeca9352-207f-4ba0-8feb-3e03d3511baa",
   "metadata": {},
   "outputs": [
    {
     "name": "stdout",
     "output_type": "stream",
     "text": [
      "saippuakivikauppias\n",
      "emordnilap ton ma I\n"
     ]
    }
   ],
   "source": [
    "mystring = \"saippuakivikauppias\"\n",
    "\n",
    "print(mystring[::-1])\n",
    "\n",
    "mystring = \"I am not palindrome\"\n",
    "\n",
    "print(mystring[::-1])"
   ]
  },
  {
   "cell_type": "markdown",
   "id": "abe0ffad-c956-4da2-a243-72e4c8033f3f",
   "metadata": {},
   "source": [
    "----------\n",
    "Python saves memory by assigning the same memory to the variables that have same values."
   ]
  },
  {
   "cell_type": "code",
   "execution_count": 29,
   "id": "b10c6ea2-582e-45cb-8e9b-b5bb36cb7702",
   "metadata": {},
   "outputs": [
    {
     "name": "stdout",
     "output_type": "stream",
     "text": [
      "2095329000720 2095329000752\n",
      "testtesttesttesttest\n",
      "20 2095331539216 2095331539216 True\n",
      "24 2095331526176 2095331526176 True\n",
      "False\n"
     ]
    }
   ],
   "source": [
    "a = 257\n",
    "b = 257\n",
    "\n",
    "print(id(a),id(b))\n",
    "\n",
    "\n",
    "a = 'test'*5\n",
    "b = 'test'*5\n",
    "print(a)\n",
    "print(len(a), id(a), id(b), a is b)\n",
    "\n",
    "a = 'test'*6\n",
    "b = 'test'*6\n",
    "print(len(a), id(a), id(b), a is b)\n",
    "\n",
    "fruit = \"my_banana as\"\n",
    "fruit2 = \"my_banana as\"\n",
    "\n",
    "\n",
    "print(fruit is fruit2 )"
   ]
  },
  {
   "cell_type": "markdown",
   "id": "10f82547-d4b8-4e8e-b252-e6b4aefdfc9c",
   "metadata": {},
   "source": [
    "----------\n",
    "Assigning new values to immutable data type integer"
   ]
  },
  {
   "cell_type": "code",
   "execution_count": 32,
   "id": "19cb350d-6ad7-4492-a629-a1b6d88b582f",
   "metadata": {},
   "outputs": [
    {
     "name": "stdout",
     "output_type": "stream",
     "text": [
      "5 5 140732249707432 140732249707432\n",
      "10 5 140732249707592 140732249707432\n"
     ]
    }
   ],
   "source": [
    "a = 5\n",
    "b = a\n",
    "\n",
    "print(a,b,id(a),id(b))\n",
    "\n",
    "a = 10\n",
    "\n",
    "print(a,b,id(a),id(b))"
   ]
  },
  {
   "cell_type": "markdown",
   "id": "6864dde1-3390-46f9-9f66-36e5ee2c955e",
   "metadata": {},
   "source": [
    "----------\n",
    "If an operation is executed on an immutable object, then its label is assigned to another memory location of the new value. "
   ]
  },
  {
   "cell_type": "code",
   "execution_count": 35,
   "id": "b4cff123-78a4-4f3a-87e7-087ee7eb4f01",
   "metadata": {},
   "outputs": [
    {
     "name": "stdout",
     "output_type": "stream",
     "text": [
      "PYTHON 2095277767600\n",
      "python 2095321836912\n"
     ]
    }
   ],
   "source": [
    "mystr = \"PYTHON\"\n",
    "print(mystr,id(mystr))\n",
    "\n",
    "mystr = mystr.lower()\n",
    "\n",
    "print(mystr,id(mystr))"
   ]
  },
  {
   "cell_type": "markdown",
   "id": "312da561-1679-4799-8777-8109d64a1f1d",
   "metadata": {},
   "source": [
    "----------\n",
    "Slicing strings "
   ]
  },
  {
   "cell_type": "code",
   "execution_count": 43,
   "id": "09b6d4f1-b3d6-4ba0-83ee-b926c94ec554",
   "metadata": {
    "scrolled": true
   },
   "outputs": [
    {
     "name": "stdout",
     "output_type": "stream",
     "text": [
      "Characters of string variable fruit:  ['0-b', '1-a', '2-n', '3-a', '4-n', '5-a']\n",
      "a banana\n",
      "b banan\n",
      "c bana\n",
      "d nan\n",
      "e nana\n",
      "f banana\n"
     ]
    }
   ],
   "source": [
    "'''\n",
    "Output:\n",
    "Characters of string variable fruit:  ['0-b', '1-a', '2-n', '3-a', '4-n', '5-a']\n",
    "a banana\n",
    "b banan\n",
    "c bana\n",
    "c nan\n",
    "'''\n",
    "\n",
    "fruit = \"banana\"\n",
    "\n",
    "print(\"Characters of string variable fruit: \",[str(i)+'-'+fruit[i] for i in range(len(fruit))])\n",
    "\n",
    "print('a',fruit[:])    # a\n",
    "print('b',fruit[:-1])  # b\n",
    "print('c',fruit[0:4])  # c\n",
    "print('d',fruit[2:5])  # d\n",
    "\n",
    "print('e',fruit[2:7])  # e\n",
    "print('f',fruit[-10:7])  # f"
   ]
  },
  {
   "cell_type": "markdown",
   "id": "9de329fa-d6a2-4d0f-87e9-b1fafe11a4e4",
   "metadata": {},
   "source": [
    "----------\n",
    "Find function for strings"
   ]
  },
  {
   "cell_type": "code",
   "execution_count": 88,
   "id": "d682cb1b-f6b7-45ab-9089-4dae9b67106e",
   "metadata": {},
   "outputs": [
    {
     "name": "stdout",
     "output_type": "stream",
     "text": [
      "0\n",
      "-1\n",
      "I is in the string\n"
     ]
    }
   ],
   "source": [
    "mystring = \"I am a string\"\n",
    "\n",
    "print(mystring.find(\"I\"))\n",
    "print(mystring.find(\"me\"))\n",
    "\n",
    "mystring = \"I am a string\"\n",
    "\n",
    "if mystring.find(\"I\") == -1: \n",
    "     print(\"I is not in the string\")\n",
    "else:\n",
    "     print(\"I is in the string\")"
   ]
  },
  {
   "cell_type": "markdown",
   "id": "e916f7cd-4f68-4d30-8db5-4f63b3b3434b",
   "metadata": {},
   "source": [
    "----------\n",
    "Checking a substring in a string"
   ]
  },
  {
   "cell_type": "code",
   "execution_count": 91,
   "id": "cf4bffc5-eb58-4716-9f3a-b3f03a531101",
   "metadata": {},
   "outputs": [
    {
     "name": "stdout",
     "output_type": "stream",
     "text": [
      "I is in the string\n"
     ]
    }
   ],
   "source": [
    "mystring = \"I am a string\"\n",
    "\n",
    "if \"I\" in mystring:\n",
    "     print(\"I is in the string\")\n",
    "else:\n",
    "     print(\"I is not in the string\")"
   ]
  },
  {
   "cell_type": "markdown",
   "id": "cc1c2c80-75d0-43b1-ae12-e00608e1ede0",
   "metadata": {},
   "source": [
    "----------\n",
    "Example, separating the user information from the input"
   ]
  },
  {
   "cell_type": "code",
   "execution_count": 96,
   "id": "60ae7385-55b0-4d54-97d7-66f0c4eddfdb",
   "metadata": {},
   "outputs": [
    {
     "name": "stdin",
     "output_type": "stream",
     "text": [
      "Type your name, age, and education by separating commas:  John, 40, college\n"
     ]
    },
    {
     "name": "stdout",
     "output_type": "stream",
     "text": [
      "user_name: John\n",
      "user_age:  40\n",
      "user_education:  college\n"
     ]
    }
   ],
   "source": [
    "user_input = input(\"Type your name, age, and education by separating commas: \") \n",
    "\n",
    "user_name = user_input[:user_input.find(\",\")]\n",
    "aftername = user_input[user_input.find(user_name)+len(user_name)+1:]\n",
    "user_age = aftername[:aftername.find(\",\")]\n",
    "user_education = aftername[aftername.find(user_age)+len(user_age)+1:]\n",
    "\n",
    "print('user_name:',user_name)\n",
    "print('user_age:',user_age)\n",
    "print('user_education:',user_education)"
   ]
  },
  {
   "cell_type": "markdown",
   "id": "510a8024-bc86-4961-b1f7-6f9cd0de839d",
   "metadata": {},
   "source": [
    "----------\n",
    "<font  color='red'> __Lists__ </font> <br>\n",
    "\n",
    "Constructing lists"
   ]
  },
  {
   "cell_type": "code",
   "execution_count": 60,
   "id": "680edfa9-c467-4940-9c24-794c47d14af2",
   "metadata": {},
   "outputs": [
    {
     "name": "stdout",
     "output_type": "stream",
     "text": [
      "[[1, 2, 3], 1, 'banana']\n"
     ]
    }
   ],
   "source": [
    "my_list = [1,2,3]\n",
    "\n",
    "my_list2 = [1]\n",
    "my_list2.append(\"banana\")\n",
    "my_list2.insert(0,my_list)\n",
    "\n",
    "print(my_list2)"
   ]
  },
  {
   "cell_type": "markdown",
   "id": "d442d4ca-ba25-4c3d-bfd8-3d91979969d1",
   "metadata": {},
   "source": [
    "----------\n",
    "Shallow copy"
   ]
  },
  {
   "cell_type": "code",
   "execution_count": 63,
   "id": "c1e14ab3-354c-4788-876f-79b73b124ca9",
   "metadata": {},
   "outputs": [
    {
     "name": "stdout",
     "output_type": "stream",
     "text": [
      "[[100, 2, 3], [4, 5, 6], [7, 8, 9]]\n",
      "[[100, 2, 3], [4, 5, 6], [7, 8, 9]]\n"
     ]
    }
   ],
   "source": [
    "original_list = [[1,2,3],[4,5,6],[7,8,9]]\n",
    "\n",
    "copy_list1 = original_list\n",
    "copy_list2 = original_list.copy()\n",
    "\n",
    "copy_list1[0][0] = 100\n",
    "\n",
    "print(copy_list1)\n",
    "print(copy_list2)"
   ]
  },
  {
   "cell_type": "markdown",
   "id": "ee206776-ad1c-462f-96e6-abc73d764d06",
   "metadata": {},
   "source": [
    "----------\n",
    "Deep copy"
   ]
  },
  {
   "cell_type": "code",
   "execution_count": 66,
   "id": "1dd59fd9-3e78-4758-aa6a-08df851a6686",
   "metadata": {},
   "outputs": [
    {
     "name": "stdout",
     "output_type": "stream",
     "text": [
      "[[100, 2, 3], [4, 5, 6], [7, 8, 9]]\n",
      "[[1, 2, 3], [4, 5, 6], [7, 8, 9]]\n"
     ]
    }
   ],
   "source": [
    "import copy as cp\n",
    "original_list = [[1,2,3],[4,5,6],[7,8,9]]\n",
    "\n",
    "copy_list1 = original_list\n",
    "copy_list2 = cp.deepcopy(original_list)\n",
    "\n",
    "copy_list1[0][0] = 100\n",
    "\n",
    "print(original_list)\n",
    "print(copy_list2)"
   ]
  },
  {
   "cell_type": "markdown",
   "id": "ba03b318-cc21-4482-afc9-3866d2f2f826",
   "metadata": {},
   "source": [
    "----------\n",
    "Below, when we equated List2 to List1, both variables have value of the list reference. Any change in the items of the list does not modify the list reference, since both keep on pointing the changed items. "
   ]
  },
  {
   "cell_type": "code",
   "execution_count": 38,
   "id": "ad1e7f9e-5c89-4860-9933-a99c7baedb92",
   "metadata": {},
   "outputs": [
    {
     "name": "stdout",
     "output_type": "stream",
     "text": [
      "[100, 10, 15, 20]\n",
      "[100, 10, 15, 20]\n"
     ]
    }
   ],
   "source": [
    "List1 = [5,10,15]\n",
    "List2 = List1\n",
    "\n",
    "List1.append(20)\n",
    "List2[0] = 100\n",
    "print(List1)\n",
    "print(List2)"
   ]
  },
  {
   "cell_type": "markdown",
   "id": "620688b1-ecc4-4145-ac66-801cdd4079b6",
   "metadata": {},
   "source": [
    "----------\n",
    "List slicing"
   ]
  },
  {
   "cell_type": "code",
   "execution_count": 69,
   "id": "90c0268c-e49f-460c-96df-a6c7e9e0c154",
   "metadata": {},
   "outputs": [
    {
     "name": "stdout",
     "output_type": "stream",
     "text": [
      "[1, 2, 3, 4, 5, 6, 7, 8, 9]\n",
      "[1, 2, 3, 4, 5, 6, 7, 8, 9]\n",
      "[4, 5, 6, 7, 8, 9]\n",
      "[1, 2, 3, 4, 5]\n",
      "[5, 6]\n",
      "[1, 4, 7]\n"
     ]
    }
   ],
   "source": [
    "mylist = [1,2,3,4,5,6,7,8,9]\n",
    "\n",
    "print(mylist[:])\n",
    "print(mylist[::])\n",
    "print(mylist[3:])\n",
    "print(mylist[:5])\n",
    "print(mylist[-5:-3])\n",
    "print(mylist[0:7:3])"
   ]
  },
  {
   "cell_type": "markdown",
   "id": "21fb451c-117a-45c1-9852-582449221cb7",
   "metadata": {},
   "source": [
    "----------\n",
    "Reversing list via slicing"
   ]
  },
  {
   "cell_type": "code",
   "execution_count": 73,
   "id": "41fbcbf6-05fe-4463-af35-e0688d6ef653",
   "metadata": {},
   "outputs": [
    {
     "name": "stdout",
     "output_type": "stream",
     "text": [
      "[9, 8, 7, 6, 5, 4, 3, 2, 1]\n",
      "[1, 2, 3, 4, 5, 4, 3, 2, 1]\n"
     ]
    }
   ],
   "source": [
    "mylist = [1,2,3,4,5,6,7,8,9]\n",
    "\n",
    "print(mylist[::-1])\n",
    "\n",
    "mylist = [1,2,3,4,5,4,3,2,1]\n",
    "\n",
    "print(mylist[::-1])\n"
   ]
  },
  {
   "cell_type": "markdown",
   "id": "b54e1022-e6d4-4bf6-a43e-613b21b8628e",
   "metadata": {},
   "source": [
    "----------\n",
    "Mutiples of lists with * operator"
   ]
  },
  {
   "cell_type": "code",
   "execution_count": 76,
   "id": "87b6d1ba-94ba-4dd4-9bf4-e40d07028b60",
   "metadata": {},
   "outputs": [
    {
     "name": "stdout",
     "output_type": "stream",
     "text": [
      "[1, 2, 1, 2]\n",
      "[1, 2, 1, 2, 1, 2]\n"
     ]
    }
   ],
   "source": [
    "mylist = [1,2]\n",
    "\n",
    "double_list = mylist*2\n",
    "print(double_list)\n",
    "\n",
    "triple_list = mylist*3\n",
    "print(triple_list)"
   ]
  },
  {
   "cell_type": "markdown",
   "id": "6e369215-b3bf-4bbc-bd49-bb453d599d85",
   "metadata": {},
   "source": [
    "----------\n",
    "Index function for lists"
   ]
  },
  {
   "cell_type": "code",
   "execution_count": 79,
   "id": "687d03d0-ce09-4503-8730-ea0b9b68837e",
   "metadata": {},
   "outputs": [
    {
     "name": "stdout",
     "output_type": "stream",
     "text": [
      "6\n",
      "1\n"
     ]
    },
    {
     "ename": "ValueError",
     "evalue": "'me' is not in list",
     "output_type": "error",
     "traceback": [
      "\u001b[1;31m---------------------------------------------------------------------------\u001b[0m",
      "\u001b[1;31mValueError\u001b[0m                                Traceback (most recent call last)",
      "Cell \u001b[1;32mIn[79], line 7\u001b[0m\n\u001b[0;32m      3\u001b[0m \u001b[38;5;28mprint\u001b[39m(mylist\u001b[38;5;241m.\u001b[39mindex(\u001b[38;5;124m\"\u001b[39m\u001b[38;5;124mI\u001b[39m\u001b[38;5;124m\"\u001b[39m))\n\u001b[0;32m      5\u001b[0m \u001b[38;5;28mprint\u001b[39m(mylist\u001b[38;5;241m.\u001b[39mindex(\u001b[38;5;241m2\u001b[39m))\n\u001b[1;32m----> 7\u001b[0m \u001b[38;5;28mprint\u001b[39m(mylist\u001b[38;5;241m.\u001b[39mindex(\u001b[38;5;124m\"\u001b[39m\u001b[38;5;124mme\u001b[39m\u001b[38;5;124m\"\u001b[39m))\n",
      "\u001b[1;31mValueError\u001b[0m: 'me' is not in list"
     ]
    }
   ],
   "source": [
    "mylist = [1,2,3,4,5,6, \"I\",\"You\"]\n",
    "\n",
    "print(mylist.index(\"I\"))\n",
    "\n",
    "print(mylist.index(2))\n",
    "\n",
    "print(mylist.index(\"me\"))"
   ]
  },
  {
   "cell_type": "markdown",
   "id": "72bd23da-b827-46b4-8c06-0886397ff10a",
   "metadata": {},
   "source": [
    "----------\n",
    "List comprehension"
   ]
  },
  {
   "cell_type": "code",
   "execution_count": 99,
   "id": "c7768a98-5026-43a3-ab18-06be028768b8",
   "metadata": {},
   "outputs": [
    {
     "name": "stdout",
     "output_type": "stream",
     "text": [
      "['Python', 'Is', 'Fun', 'To', 'Program', 'And', 'Easy', 'To', 'Learn!']\n"
     ]
    }
   ],
   "source": [
    "my_sentence = \"Python is fun to program and easy to learn!\"\n",
    "\n",
    "words = my_sentence.split()\n",
    "word_list = [word.capitalize() for word in words] \n",
    "\n",
    "print(word_list)"
   ]
  },
  {
   "cell_type": "markdown",
   "id": "7e8cf750-6442-43a2-908e-fad0ae7c6653",
   "metadata": {},
   "source": [
    "----------\n",
    "List comprehension in a compact way"
   ]
  },
  {
   "cell_type": "code",
   "execution_count": 102,
   "id": "eb264a8b-21d9-4c3d-8dce-713cefcc6e86",
   "metadata": {},
   "outputs": [
    {
     "name": "stdout",
     "output_type": "stream",
     "text": [
      "['Python', 'Is', 'Fun', 'To', 'Program', 'And', 'Easy', 'To', 'Learn!']\n",
      "['Python', 'Is', 'Fun', 'To', 'Program', 'And', 'Easy', 'To', 'Learn!']\n"
     ]
    }
   ],
   "source": [
    "my_sentence = \"Python is fun to program and easy to learn!\"\n",
    "words = my_sentence.split()\n",
    "word_list = [word.capitalize() for word in words] \n",
    "\n",
    "print(word_list)\n",
    "\n",
    "my_sentence = \"Python is fun to program and easy to learn!\"\n",
    "word_list = [word.capitalize() for word in my_sentence.split()] \n",
    "\n",
    "print(word_list)"
   ]
  },
  {
   "cell_type": "markdown",
   "id": "9f1bcdd0-6f90-494e-99eb-7ff5d96bce6b",
   "metadata": {},
   "source": [
    "----------\n",
    "Deep copy via list comprehension"
   ]
  },
  {
   "cell_type": "code",
   "execution_count": 105,
   "id": "7d9cf503-0016-40e5-badb-65550ecad980",
   "metadata": {},
   "outputs": [
    {
     "name": "stdout",
     "output_type": "stream",
     "text": [
      "True\n",
      "2095361680832 2095361673216\n"
     ]
    }
   ],
   "source": [
    "Mylist = [1,2,3,4,5]\n",
    "\n",
    "OtherList = [x for x in Mylist]\n",
    "\n",
    "print(Mylist == OtherList)\n",
    "\n",
    "print(id(Mylist),id(OtherList))"
   ]
  },
  {
   "cell_type": "markdown",
   "id": "50f3a6fd-480b-47e6-9506-1c2b6b946a6a",
   "metadata": {},
   "source": [
    "----------\n",
    "A special sublist via list comprehension"
   ]
  },
  {
   "cell_type": "code",
   "execution_count": 108,
   "id": "75463789-f675-4ed6-90d1-7e4e8f6717d1",
   "metadata": {},
   "outputs": [
    {
     "name": "stdout",
     "output_type": "stream",
     "text": [
      "[2, 4, 6, 8, 10]\n",
      "[0.5, 1.0, 1.5, 2.0, 2.5, 3.0, 3.5, 4.0, 4.5, 5.0]\n"
     ]
    }
   ],
   "source": [
    "Mylist = [1,2,3,4,5,6,7,8,9,10]\n",
    "\n",
    "Even_List = [x for x in Mylist if x%2 ==0]\n",
    "print(Even_List)\n",
    "\n",
    "Half_numbers =  [x/2 for x in Mylist]\n",
    "print(Half_numbers)"
   ]
  },
  {
   "cell_type": "markdown",
   "id": "5919d709-0688-4cee-a488-130132e45c34",
   "metadata": {},
   "source": [
    "----------\n",
    "Operations in lists"
   ]
  },
  {
   "cell_type": "code",
   "execution_count": 111,
   "id": "a13acf81-a107-4c68-af4d-5531b79cd130",
   "metadata": {},
   "outputs": [
    {
     "name": "stdout",
     "output_type": "stream",
     "text": [
      "Concatenated list:\n",
      "[10, 11, 12, 13, 14, 20, 30, 42]\n",
      "Concatenated list:\n",
      "[10, 11, 12, 13, 14, 20, 30, 42]\n",
      "Sorted list:\n",
      "[10, 11, 12, 13, 14, 15, 22, 33]\n",
      "Sorted list:\n",
      "[('Murat', 20), ('John', 25), ('Stefano', 27), ('Bart', 35)]\n"
     ]
    }
   ],
   "source": [
    "# Concatenation - Way 1:\n",
    "list1 = [10, 11, 12, 13, 14] \n",
    "list2 = [20, 30, 42] \n",
    "# addition operator \"+\" is used.\n",
    "\n",
    "final_list = list1 + list2 \n",
    "\n",
    "\n",
    "print (\"Concatenated list:\\n\" + str(final_list)) \n",
    "\n",
    "# Concatenation - Way 2:\n",
    "final_list = [j for i in [list1, list2] for j in i]\n",
    "# List comprehension way of nested lists.\n",
    "\n",
    "print (\"Concatenated list:\\n\" + str(final_list)) \n",
    "\n",
    "\n",
    "# Sorting of elements in a list\n",
    "list1 = [15,10, 22, 11, 12, 33, 13, 14] \n",
    "list_sorted = sorted(list1)\n",
    "print (\"Sorted list:\\n\" + str(list_sorted)) \n",
    "\n",
    "\n",
    "# Sorting list of tuples with respect to one specific item of tuples. \n",
    "student_list = [('John',25),('Bart',35),('Stefano',27),('Murat',20)]\n",
    "\n",
    "# Note that, here we use lambda function first time in our lectures.\n",
    "# Here, lambda function specifies the particular element of part of the element to use in sorting.  \n",
    "\n",
    "sorted_list = sorted(student_list, key=lambda x: x[1]) \n",
    "\n",
    "print (\"Sorted list:\\n\" + str(sorted_list)) "
   ]
  },
  {
   "cell_type": "markdown",
   "id": "c9477516-1fbe-4f64-8bd7-960cd1250781",
   "metadata": {},
   "source": [
    "----------\n",
    "<font  color='red'> __Python Tuples__ </font> <br>\n",
    "\n",
    "A Python tuple is also an ordered collection of Python objects. The only difference between a tuple and a list is that tuples are immutable. Tuples cannot be modified after it is created.\n"
   ]
  },
  {
   "cell_type": "code",
   "execution_count": 123,
   "id": "f0751f8d-e9cb-4732-8d69-e0d04699b268",
   "metadata": {},
   "outputs": [
    {
     "name": "stdout",
     "output_type": "stream",
     "text": [
      "('Area 51', (37, 14, 6, 'N'), (115, 48, 40, 'W'))\n"
     ]
    }
   ],
   "source": [
    "Latitude = (37,14,6,'N')\n",
    "Longitude = (115,48,40,'W')\n",
    "\n",
    "User_info = (\"Area 51\", Latitude, Longitude)\n",
    "\n",
    "print(User_info)"
   ]
  },
  {
   "cell_type": "code",
   "execution_count": 125,
   "id": "21b2ad98-fbd4-4051-955c-55f0344eb6b5",
   "metadata": {},
   "outputs": [
    {
     "name": "stdout",
     "output_type": "stream",
     "text": [
      "Area 51\n",
      "('Area 51',)\n",
      "Area 51\n",
      "(37, 14, 6, 'N')\n",
      "(115, 48, 40, 'W')\n"
     ]
    }
   ],
   "source": [
    "# Accessing Tuple with Indexing\n",
    "print(User_info[0])\n",
    "\n",
    "# Accessing a range of elements using slicing\n",
    "print(User_info[:1])  \n",
    "\n",
    "# Tuple unpacking, \n",
    "address, latitude, longitude = User_info\n",
    "print(address)\n",
    "print(latitude)\n",
    "print(longitude)"
   ]
  },
  {
   "cell_type": "markdown",
   "id": "3b5a5de2-2697-4956-a822-b3a50304eaa6",
   "metadata": {},
   "source": [
    "----------\n",
    "Concatenation of Tuples\n"
   ]
  },
  {
   "cell_type": "code",
   "execution_count": 128,
   "id": "689bd698-a68d-4030-be44-bba7c4d25bed",
   "metadata": {},
   "outputs": [
    {
     "name": "stdout",
     "output_type": "stream",
     "text": [
      "(0, 1, 2, 3, 'Geeks', 'For', 'Geeks')\n"
     ]
    }
   ],
   "source": [
    "tup1 = (0, 1, 2, 3)\n",
    "tup2 = ('Geeks', 'For', 'Geeks')\n",
    "\n",
    "tup3 = tup1 + tup2\n",
    "print(tup3)"
   ]
  },
  {
   "cell_type": "markdown",
   "id": "73418db9-9973-477e-bbf6-6d44d38cdf04",
   "metadata": {},
   "source": [
    "----------\n",
    "Slicing of Tuples\n"
   ]
  },
  {
   "cell_type": "code",
   "execution_count": 130,
   "id": "0c59f2b2-5634-48ed-8f5c-9eccc179e68b",
   "metadata": {},
   "outputs": [
    {
     "name": "stdout",
     "output_type": "stream",
     "text": [
      "('B', '3', '5', '0', '2', 'P', 'Y', 'T', 'H', 'O', 'N')\n",
      "('N', 'O', 'H', 'T', 'Y', 'P', '2', '0', '5', '3', 'B', 'I')\n",
      "('0', '2', 'P', 'Y', 'T')\n"
     ]
    }
   ],
   "source": [
    "# Slicing of a Tuple with Numbers\n",
    "tup = tuple('IB3502PYTHON')\n",
    "\n",
    "# Removing First element\n",
    "print(tup[1:])\n",
    "\n",
    "# Reversing the Tuple\n",
    "print(tup[::-1])\n",
    "\n",
    "# Printing elements of a Range\n",
    "print(tup[4:9])"
   ]
  },
  {
   "cell_type": "markdown",
   "id": "c69b7b58-bf71-4f55-8cc4-e27a4ff9cf4d",
   "metadata": {},
   "source": [
    "----------\n",
    "Tuple built-in methods"
   ]
  },
  {
   "cell_type": "code",
   "execution_count": 144,
   "id": "ce4c7dbb-2fd4-4c6f-8cf7-7ace2f65d767",
   "metadata": {
    "scrolled": true
   },
   "outputs": [
    {
     "name": "stdout",
     "output_type": "stream",
     "text": [
      "5\n",
      "1\n",
      "12 ['0', '2', '3', '5', 'B', 'H', 'I', 'N', 'O', 'P', 'T', 'Y']\n"
     ]
    }
   ],
   "source": [
    "print(tup.index(\"2\")) # returns the index of first occurance \n",
    "print(tup.count(\"2\")) # returns the number of occurances\n",
    "print(len(tup),sorted(tup)) # returns the number of occurances"
   ]
  },
  {
   "cell_type": "markdown",
   "id": "9d0150bd-62e0-4ada-8333-61441b1be2a2",
   "metadata": {},
   "source": [
    "----------\n",
    "<font  color='red'> __Python Sets__ </font> <br>\n",
    "\n",
    " A Python set is an unordered collection of data types that is iterable, mutable, and has no duplicate elements. The order of elements in a set is undefined though it may consist of various elements.\n"
   ]
  },
  {
   "cell_type": "code",
   "execution_count": 149,
   "id": "d13f597b-2b70-4e55-a14f-c8d8af3b38ca",
   "metadata": {},
   "outputs": [
    {
     "name": "stdout",
     "output_type": "stream",
     "text": [
      "{'2+3=?', '2+1=?', '2+2=?'}\n"
     ]
    }
   ],
   "source": [
    "Question_topics_addition= set([\"2+1=?\", \"2+2=?\", \"2+3=?\"])\n",
    "print(Question_topics_addition)"
   ]
  },
  {
   "cell_type": "markdown",
   "id": "f7ba2023-38f5-4e60-9073-552118833136",
   "metadata": {},
   "source": [
    "----------\n",
    "Python Set operations"
   ]
  },
  {
   "cell_type": "code",
   "execution_count": 151,
   "id": "fd988543-ad83-4ce4-8e2c-9fb1e022e982",
   "metadata": {},
   "outputs": [
    {
     "name": "stdout",
     "output_type": "stream",
     "text": [
      "{'Tuple', 'List', 'Python', 'Set', 'Dictionary', 'String'}\n",
      "{'Python'}\n",
      "{'Tuple', 'List', 'Python', 'Set', 'Dictionary', 'For', 'String', 'While', 'If-Else'}\n",
      "{'While', 'If-Else', 'For'}\n"
     ]
    }
   ],
   "source": [
    "Tags_Python_Lecture_1= set([\"Python\", \"If-Else\", \"While\", \"For\"])\n",
    "Tags_Python_Lecture_2= set([\"Python\", \"String\", \"List\", \"Tuple\", \"Set\", \"Dictionary\"])\n",
    "print(Tags_Python_Lecture_2)\n",
    "# Output: {'Tuple', 'List', 'Set', 'Dictionary', 'String’}\n",
    "print(Tags_Python_Lecture_1.intersection(Tags_Python_Lecture_2))\n",
    "print(Tags_Python_Lecture_1.union(Tags_Python_Lecture_2))\n",
    "print(Tags_Python_Lecture_1 - Tags_Python_Lecture_1.intersection(Tags_Python_Lecture_2))\n"
   ]
  },
  {
   "cell_type": "markdown",
   "id": "4ae3ba17-e941-4df4-bf16-472b0324213a",
   "metadata": {},
   "source": [
    "----------\n",
    "Creating Sets"
   ]
  },
  {
   "cell_type": "code",
   "execution_count": 163,
   "id": "e2283972-82d7-4b4b-9927-b9accf3e6653",
   "metadata": {},
   "outputs": [
    {
     "name": "stdout",
     "output_type": "stream",
     "text": [
      "set()\n",
      "{'h', '5', '0', 'B', 'o', 'n', '2', 'y', 't', 'I', 'P', '3'}\n",
      "{'Types', 'Data', 'Python'}\n",
      "{'Types', 'Data', 'Python'}\n",
      "{'Types', 'Data', 'Python'}\n"
     ]
    }
   ],
   "source": [
    "# Creating a Set\n",
    "set1 = set()\n",
    "print(set1)\n",
    "\n",
    "set1 = set(\"IB3502Python\")\n",
    "print(set1)\n",
    "\n",
    "# Creating a Set with the use of a List\n",
    "set1 = set([\"Python\", \"Data\", \"Types\"])\n",
    "print(set1)\n",
    "\n",
    "# Creating a Set with the use of a tuple\n",
    "tup = (\"Python\", \"Data\", \"Types\")\n",
    "print(set(tup))\n",
    "\n",
    "# Creating a Set with the use of a dictionary\n",
    "d = {\"Python\": 1, \"Data\": 2, \"Types\": 3}\n",
    "print(set(d))"
   ]
  },
  {
   "cell_type": "markdown",
   "id": "b82e47d6-7fa9-41fc-b8ed-145cb020583f",
   "metadata": {},
   "source": [
    "----------\n",
    "Sets are unordered and unindexed "
   ]
  },
  {
   "cell_type": "code",
   "execution_count": 165,
   "id": "0f0ce9c8-88d1-446f-8e80-dea00658a188",
   "metadata": {
    "scrolled": true
   },
   "outputs": [
    {
     "name": "stdout",
     "output_type": "stream",
     "text": [
      "{1, 2, 3, 4, 5, 9}\n",
      "'set' object is not subscriptable\n"
     ]
    }
   ],
   "source": [
    "# Creating a set\n",
    "set1 = {3, 1, 4, 1, 5, 9, 2}\n",
    "\n",
    "# Unordered: The order of elements is not preserved\n",
    "print(set1)  # Output may vary: {1, 2, 3, 4, 5, 9}\n",
    "\n",
    "# Unindexed: Accessing elements by index is not possible\n",
    "# This will raise a TypeError\n",
    "try:\n",
    "    print(set1[0])\n",
    "except TypeError as e:\n",
    "    print(e)"
   ]
  },
  {
   "cell_type": "markdown",
   "id": "e78e8a14-c774-46b4-bd4a-ff28ab524d2e",
   "metadata": {},
   "source": [
    "----------\n",
    "<font  color='red'> __Python Dictionaries__ </font> <br>\n",
    "\n",
    "A dictionary in Python is a collection of data values, used to store data values like a map, unlike other Python Data Types that hold only a single value as an element, a Dictionary holds a key: value pair. Key-value is provided in the dictionary to make it more optimized. Each key-value pair in a Dictionary is separated by a colon : , whereas each key is separated by a ‘comma’.\n"
   ]
  },
  {
   "cell_type": "code",
   "execution_count": 170,
   "id": "31c322a6-1cf7-4ff2-b78c-004ec9407f6c",
   "metadata": {},
   "outputs": [
    {
     "name": "stdout",
     "output_type": "stream",
     "text": [
      "{'Bread': 2, 'Cheese': 1, 'Meat': 750}\n",
      "Buy Bread of amount 2\n",
      "Buy Cheese of amount 1\n",
      "Buy Meat of amount 750\n",
      "dict_keys(['Bread', 'Cheese', 'Meat'])\n",
      "dict_values([2, 1, 750])\n",
      "2\n"
     ]
    }
   ],
   "source": [
    "Shopping_List = {\"Bread\":2, \"Cheese\":1,\"Meat\":750}\n",
    "print(Shopping_List)\n",
    "\n",
    "for product,no in Shopping_List.items():\n",
    "    print(\"Buy\",product,'of amount',no)\n",
    "    \n",
    "print(Shopping_List.keys())\n",
    "print(Shopping_List.values())\n",
    "\n",
    "# We can get the value of a key immedaitely without any list search. \n",
    "#To get the value of a key: \n",
    "print(Shopping_List[\"Bread\"])\n",
    "    "
   ]
  },
  {
   "cell_type": "code",
   "execution_count": 172,
   "id": "7ad71097-56e6-434e-bd48-2cfb28ddfb5a",
   "metadata": {},
   "outputs": [
    {
     "name": "stdout",
     "output_type": "stream",
     "text": [
      "{'Bread': 2, 'Cheese': 1, 'Meat': 750}\n",
      "Buy Bread of amount 2\n",
      "Buy Cheese of amount 1\n",
      "Buy Meat of amount 750\n"
     ]
    }
   ],
   "source": [
    "Shopping_List = dict()\n",
    "\n",
    "Shopping_List[\"Bread\"] = 2\n",
    "Shopping_List[\"Cheese\"] =1\n",
    "Shopping_List[\"Meat\"] = 750\n",
    "print(Shopping_List)\n",
    "\n",
    "\n",
    "\n",
    "for k,v in Shopping_List.items():\n",
    "    print(\"Buy\",k,'of amount',v)"
   ]
  },
  {
   "cell_type": "markdown",
   "id": "bcc1f22a-4f99-41cb-bd8e-87508d77f7df",
   "metadata": {},
   "source": [
    "----------\n",
    "Operations on keys and values in dictionaries\n"
   ]
  },
  {
   "cell_type": "code",
   "execution_count": 175,
   "id": "cd5d4920-4e91-424e-ad72-3b8a22ca9620",
   "metadata": {},
   "outputs": [
    {
     "name": "stdout",
     "output_type": "stream",
     "text": [
      "Sorted dictionary by keys:\n",
      " {'bruce': 2, 'john': 10, 'rick': 9, 'ricky': 15, 'ronald': 32}\n",
      "Sorted dictionary by values:\n",
      " {'bruce': 2, 'rick': 9, 'john': 10, 'ricky': 15, 'ronald': 32}\n"
     ]
    }
   ],
   "source": [
    "myDict = {'john': 10, 'rick': 9,'ricky': 15, 'bruce': 2, 'ronald': 32}\n",
    "\n",
    "myKeys = list(myDict.keys())\n",
    "myKeys.sort()\n",
    "key_sorted_dict = {i: myDict[i] for i in myKeys}\n",
    "\n",
    "print('Sorted dictionary by keys:\\n',key_sorted_dict)\n",
    "\n",
    "\n",
    "\n",
    "# Sort based on Values\n",
    "value_sorted_dict = {key:value for key, value in sorted(myDict.items(), key=lambda myDict: myDict[1])}\n",
    "print('Sorted dictionary by values:\\n',value_sorted_dict)"
   ]
  },
  {
   "cell_type": "markdown",
   "id": "dbbd5cdb-af2c-443c-95d9-07a551abe561",
   "metadata": {},
   "source": [
    "__________________\n",
    "<center> <font size = '6' color='red'>Exercises </font> </center>\n",
    "\n",
    "\n",
    "To check your understanding, you can try the following  <a href=\"https://www.geeksforgeeks.org/quizzes/data-type-gq/?ref=roadmap\"> Mini Quiz</a> \n",
    "\n",
    "*<font color='red'>Exercise 1</font>* <br>\n",
    "Give a string perform the following operations: <br>\n",
    "<ol>\n",
    "<li> Obtain a new string where the first and last chars have been exchanged</li>\n",
    "<li> Obtain a new string where where all occurrences of its first char have been changed to '$', except the first char itself.</li>\n",
    "</ol>"
   ]
  },
  {
   "cell_type": "code",
   "execution_count": null,
   "id": "6e3a7d6c-f0a2-4239-8d0e-e413729bcaa6",
   "metadata": {},
   "outputs": [],
   "source": []
  },
  {
   "cell_type": "markdown",
   "id": "a8b7f964-95a3-4f84-a9c2-af0ac41ddb1f",
   "metadata": {},
   "source": [
    "__________________\n",
    "\n",
    "*<font color='red'>Exercise 2</font>* <br>\n",
    "Write a Python code that takes a list of words and returns the length of the longest one. \n"
   ]
  },
  {
   "cell_type": "code",
   "execution_count": null,
   "id": "c9005b01-11d3-4170-b450-b195f5c95f33",
   "metadata": {},
   "outputs": [],
   "source": []
  },
  {
   "cell_type": "markdown",
   "id": "f85f2412-26ed-46f1-b770-ada411e6b5e7",
   "metadata": {},
   "source": [
    "__________________\n",
    "\n",
    "*<font color='red'>Exercise 3</font>* <br>\n",
    "\n",
    "Write a Python code to sort (ascending and descending) a dictionary by value"
   ]
  },
  {
   "cell_type": "code",
   "execution_count": null,
   "id": "d0e875da-fabf-4d07-84ba-83737784cb6d",
   "metadata": {},
   "outputs": [],
   "source": []
  },
  {
   "cell_type": "markdown",
   "id": "72d6380e-1d46-4b2b-ac38-0c014243d167",
   "metadata": {},
   "source": [
    "__________________\n",
    "\n",
    "*<font color='red'>Exercise 4</font>* <br>\n",
    "\n",
    "Write a Python code to remove the nth index character from a non empty string."
   ]
  },
  {
   "cell_type": "code",
   "execution_count": null,
   "id": "584344ec-9cb1-4f68-a72b-87d27c62132f",
   "metadata": {},
   "outputs": [],
   "source": []
  },
  {
   "cell_type": "markdown",
   "id": "ccdd6e37-ff5d-41d0-8b28-d09a1ab3b6a8",
   "metadata": {},
   "source": [
    "__________________\n",
    "\n",
    "*<font color='red'>Exercise 5</font>* <br>\n",
    "\n",
    "Write a Python code to count the number of characters (character frequency) in a string. "
   ]
  },
  {
   "cell_type": "code",
   "execution_count": null,
   "id": "a1041bc2-c945-4d7d-8d5a-d85edc51a51f",
   "metadata": {},
   "outputs": [],
   "source": []
  }
 ],
 "metadata": {
  "kernelspec": {
   "display_name": "Python 3 (ipykernel)",
   "language": "python",
   "name": "python3"
  },
  "language_info": {
   "codemirror_mode": {
    "name": "ipython",
    "version": 3
   },
   "file_extension": ".py",
   "mimetype": "text/x-python",
   "name": "python",
   "nbconvert_exporter": "python",
   "pygments_lexer": "ipython3",
   "version": "3.11.5"
  }
 },
 "nbformat": 4,
 "nbformat_minor": 5
}
